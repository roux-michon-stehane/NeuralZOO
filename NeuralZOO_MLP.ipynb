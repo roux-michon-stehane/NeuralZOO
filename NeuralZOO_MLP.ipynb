{
 "cells": [
  {
   "cell_type": "code",
   "execution_count": 10,
   "id": "b36ab2ff",
   "metadata": {},
   "outputs": [],
   "source": [
    "import matplotlib.pyplot as plt\n",
    "import seaborn as sns\n",
    "\n",
    "import numpy as np\n",
    "\n",
    "import keras\n",
    "import tensorflow as tf\n",
    "\n",
    "from tensorflow.keras import datasets, layers, models\n",
    "\n",
    "from tensorflow.keras.models import Sequential\n",
    "from tensorflow.keras.layers import Input, Dense, Flatten\n",
    "from tensorflow.keras.layers import BatchNormalization\n",
    "from tensorflow.keras.models import Model\n",
    "from tensorflow.keras import optimizers\n",
    "\n",
    "from tensorflow.keras.datasets import cifar10\n",
    "from tensorflow.keras.utils import to_categorical"
   ]
  },
  {
   "cell_type": "code",
   "execution_count": 11,
   "id": "a0f1207c",
   "metadata": {},
   "outputs": [],
   "source": [
    "class_names = ['oiseau', 'chat', 'cerf', \n",
    "               'chien', 'grenouille', 'cheval']\n",
    "\n",
    "(x_train, y_train), (x_final, y_final) = cifar10.load_data()\n",
    "x_train = x_train.astype('float32') / 255.0\n",
    "x_final = x_final.astype('float32') / 255.0\n",
    "\n",
    "y_train = to_categorical(y_train)\n",
    "y_final = to_categorical(y_final)\n",
    "\n",
    "animal_indices = np.where(np.isin(y_train.argmax(axis=1), [2, 3, 4, 5, 6, 7]))[0]\n",
    "x_animals = x_train[animal_indices]\n",
    "y_animals = y_train[animal_indices]"
   ]
  },
  {
   "cell_type": "code",
   "execution_count": 15,
   "id": "18560fd4",
   "metadata": {},
   "outputs": [
    {
     "name": "stdout",
     "output_type": "stream",
     "text": [
      "Model: \"model_3\"\n",
      "_________________________________________________________________\n",
      " Layer (type)                Output Shape              Param #   \n",
      "=================================================================\n",
      " input_5 (InputLayer)        [(None, 32, 32, 3)]       0         \n",
      "                                                                 \n",
      " flatten_9 (Flatten)         (None, 3072)              0         \n",
      "                                                                 \n",
      " batch_normalization_4 (Batc  (None, 3072)             12288     \n",
      " hNormalization)                                                 \n",
      "                                                                 \n",
      " dense_25 (Dense)            (None, 200)               614600    \n",
      "                                                                 \n",
      " dense_26 (Dense)            (None, 150)               30150     \n",
      "                                                                 \n",
      " dense_27 (Dense)            (None, 10)                1510      \n",
      "                                                                 \n",
      "=================================================================\n",
      "Total params: 658,548\n",
      "Trainable params: 652,404\n",
      "Non-trainable params: 6,144\n",
      "_________________________________________________________________\n"
     ]
    }
   ],
   "source": [
    "model = Sequential()\n",
    "\n",
    "model.add(Flatten(input_shape=(32, 32, 3)))\n",
    "model.add(BatchNormalization())\n",
    "model.add(Dense(200000, activation='relu'))\n",
    "model.add(Dense(150, activation='relu'))\n",
    "model.add(Dense(10, activation='softmax'))\n",
    "\n",
    "inputs = Input(shape=(32, 32, 3))\n",
    "\n",
    "x = Flatten()(inputs)\n",
    " \n",
    "x = (BatchNormalization())(x)\n",
    "x = Dense(200, activation='relu')(x)\n",
    "x = Dense(150, activation='relu')(x)\n",
    "\n",
    "outputs = Dense(10, activation='softmax')(x)\n",
    " \n",
    "model = Model(inputs=inputs, outputs=outputs)\n",
    "\n",
    "model.summary()"
   ]
  },
  {
   "cell_type": "code",
   "execution_count": 16,
   "id": "efe21e58",
   "metadata": {},
   "outputs": [],
   "source": [
    "opt = optimizers.Adam(learning_rate=0.0005)\n",
    "model.compile(loss='categorical_crossentropy', optimizer=opt, metrics=['accuracy'])"
   ]
  },
  {
   "cell_type": "code",
   "execution_count": 17,
   "id": "d3e1ad54",
   "metadata": {},
   "outputs": [
    {
     "name": "stdout",
     "output_type": "stream",
     "text": [
      "Epoch 1/10\n",
      "938/938 [==============================] - 15s 14ms/step - loss: 1.5840 - accuracy: 0.3868\n",
      "Epoch 2/10\n",
      "938/938 [==============================] - 12s 13ms/step - loss: 1.3792 - accuracy: 0.4623\n",
      "Epoch 3/10\n",
      "938/938 [==============================] - 12s 13ms/step - loss: 1.2940 - accuracy: 0.4981\n",
      "Epoch 4/10\n",
      "938/938 [==============================] - 12s 13ms/step - loss: 1.2329 - accuracy: 0.5256\n",
      "Epoch 5/10\n",
      "938/938 [==============================] - 12s 13ms/step - loss: 1.1684 - accuracy: 0.5519\n",
      "Epoch 6/10\n",
      "938/938 [==============================] - 12s 12ms/step - loss: 1.1181 - accuracy: 0.5738\n",
      "Epoch 7/10\n",
      "938/938 [==============================] - 12s 13ms/step - loss: 1.0633 - accuracy: 0.5923\n",
      "Epoch 8/10\n",
      "938/938 [==============================] - 12s 13ms/step - loss: 1.0171 - accuracy: 0.6152\n",
      "Epoch 9/10\n",
      "938/938 [==============================] - 13s 14ms/step - loss: 0.9738 - accuracy: 0.6278\n",
      "Epoch 10/10\n",
      "938/938 [==============================] - 12s 13ms/step - loss: 0.9202 - accuracy: 0.6501\n"
     ]
    }
   ],
   "source": [
    "history = model.fit(x_animals, y_animals, batch_size = 32, epochs = 10, shuffle = True)"
   ]
  },
  {
   "cell_type": "code",
   "execution_count": 18,
   "id": "4b15f074",
   "metadata": {},
   "outputs": [
    {
     "name": "stdout",
     "output_type": "stream",
     "text": [
      "313/313 [==============================] - 2s 4ms/step - loss: 11.6958 - accuracy: 0.3054\n",
      "Test loss: 11.695796966552734\n",
      "Test accuracy: 0.305400013923645\n"
     ]
    }
   ],
   "source": [
    "loss, accuracy = model.evaluate(x_final, y_final)\n",
    "print('Test loss:', loss)\n",
    "print('Test accuracy:', accuracy)"
   ]
  },
  {
   "cell_type": "code",
   "execution_count": 19,
   "id": "b0b3a77b",
   "metadata": {},
   "outputs": [
    {
     "data": {
      "text/plain": [
       "Text(0, 0.5, 'Accuracy + loss')"
      ]
     },
     "execution_count": 19,
     "metadata": {},
     "output_type": "execute_result"
    },
    {
     "data": {
      "image/png": "[encoded data removed]",
      "text/plain": [
       "<Figure size 1000x400 with 1 Axes>"
      ]
     },
     "metadata": {},
     "output_type": "display_data"
    }
   ],
   "source": [
    "fig, (ax1) = plt.subplots(1, figsize=(10, 4))\n",
    "fig.suptitle(\"MLP Model Accuracy and Loss\")\n",
    "\n",
    "sns.lineplot(x=history.epoch, y=history.history['accuracy'], label=\"Train accuracy\",c = \"green\")\n",
    "sns.lineplot(x=history.epoch, y=history.history['loss'], label=\"Train loss\",c = \"red\")\n",
    "ax1.set_xlabel(\"Epochs\")\n",
    "ax1.set_ylabel(\"Accuracy + loss\")"
   ]
  },
  {
   "cell_type": "markdown",
   "id": "565ba828",
   "metadata": {},
   "source": [
    "le MLP est et plus rapide mais pas trés adapeté de ce que j'ai lu c'est tout a fais normale les donnée sont tros complex"
   ]
  }
 ],
 "metadata": {
  "kernelspec": {
   "display_name": "Python 3 (ipykernel)",
   "language": "python",
   "name": "python3"
  },
  "language_info": {
   "codemirror_mode": {
    "name": "ipython",
    "version": 3
   },
   "file_extension": ".py",
   "mimetype": "text/x-python",
   "name": "python",
   "nbconvert_exporter": "python",
   "pygments_lexer": "ipython3",
   "version": "3.10.9"
  }
 },
 "nbformat": 4,
 "nbformat_minor": 5
}
